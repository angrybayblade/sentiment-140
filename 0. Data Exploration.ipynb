{
 "cells": [
  {
   "cell_type": "code",
   "execution_count": 1,
   "metadata": {},
   "outputs": [],
   "source": [
    "import pandas as pd\n",
    "import numpy as np\n",
    "import re\n",
    "\n",
    "import plotly.express as ex\n",
    "\n",
    "from gensim.models.word2vec import Word2Vec\n",
    "from tqdm.notebook import tqdm\n",
    "\n",
    "from sklearn.manifold import TSNE"
   ]
  },
  {
   "cell_type": "markdown",
   "metadata": {},
   "source": [
    "### Content\n",
    "\n",
    "It contains the following 6 fields:\n",
    "\n",
    "```\n",
    "target: the polarity of the tweet (0 = negative, 2 = neutral, 4 = positive)\n",
    "ids: The id of the tweet ( 2087)\n",
    "date: the date of the tweet (Sat May 16 23:58:44 UTC 2009)\n",
    "flag: The query (lyx). If there is no query, then this value is NO_QUERY.\n",
    "user: the user that tweeted (robotickilldozr)\n",
    "text: the text of the tweet (Lyx is cool)\n",
    "```"
   ]
  },
  {
   "cell_type": "code",
   "execution_count": 2,
   "metadata": {},
   "outputs": [],
   "source": [
    "df = pd.read_csv(\"./data.csv\",encoding = \"ISO-8859-1\",names=[\"target\",\"ids\",\"date\",\"flag\",\"user\",\"text\"])"
   ]
  },
  {
   "cell_type": "code",
   "execution_count": 3,
   "metadata": {},
   "outputs": [
    {
     "data": {
      "text/html": [
       "<div>\n",
       "<style scoped>\n",
       "    .dataframe tbody tr th:only-of-type {\n",
       "        vertical-align: middle;\n",
       "    }\n",
       "\n",
       "    .dataframe tbody tr th {\n",
       "        vertical-align: top;\n",
       "    }\n",
       "\n",
       "    .dataframe thead th {\n",
       "        text-align: right;\n",
       "    }\n",
       "</style>\n",
       "<table border=\"1\" class=\"dataframe\">\n",
       "  <thead>\n",
       "    <tr style=\"text-align: right;\">\n",
       "      <th></th>\n",
       "      <th>target</th>\n",
       "      <th>ids</th>\n",
       "      <th>date</th>\n",
       "      <th>flag</th>\n",
       "      <th>user</th>\n",
       "      <th>text</th>\n",
       "    </tr>\n",
       "  </thead>\n",
       "  <tbody>\n",
       "    <tr>\n",
       "      <th>0</th>\n",
       "      <td>0</td>\n",
       "      <td>1467810369</td>\n",
       "      <td>Mon Apr 06 22:19:45 PDT 2009</td>\n",
       "      <td>NO_QUERY</td>\n",
       "      <td>_TheSpecialOne_</td>\n",
       "      <td>@switchfoot http://twitpic.com/2y1zl - Awww, t...</td>\n",
       "    </tr>\n",
       "    <tr>\n",
       "      <th>1</th>\n",
       "      <td>0</td>\n",
       "      <td>1467810672</td>\n",
       "      <td>Mon Apr 06 22:19:49 PDT 2009</td>\n",
       "      <td>NO_QUERY</td>\n",
       "      <td>scotthamilton</td>\n",
       "      <td>is upset that he can't update his Facebook by ...</td>\n",
       "    </tr>\n",
       "    <tr>\n",
       "      <th>2</th>\n",
       "      <td>0</td>\n",
       "      <td>1467810917</td>\n",
       "      <td>Mon Apr 06 22:19:53 PDT 2009</td>\n",
       "      <td>NO_QUERY</td>\n",
       "      <td>mattycus</td>\n",
       "      <td>@Kenichan I dived many times for the ball. Man...</td>\n",
       "    </tr>\n",
       "    <tr>\n",
       "      <th>3</th>\n",
       "      <td>0</td>\n",
       "      <td>1467811184</td>\n",
       "      <td>Mon Apr 06 22:19:57 PDT 2009</td>\n",
       "      <td>NO_QUERY</td>\n",
       "      <td>ElleCTF</td>\n",
       "      <td>my whole body feels itchy and like its on fire</td>\n",
       "    </tr>\n",
       "    <tr>\n",
       "      <th>4</th>\n",
       "      <td>0</td>\n",
       "      <td>1467811193</td>\n",
       "      <td>Mon Apr 06 22:19:57 PDT 2009</td>\n",
       "      <td>NO_QUERY</td>\n",
       "      <td>Karoli</td>\n",
       "      <td>@nationwideclass no, it's not behaving at all....</td>\n",
       "    </tr>\n",
       "  </tbody>\n",
       "</table>\n",
       "</div>"
      ],
      "text/plain": [
       "   target         ids                          date      flag  \\\n",
       "0       0  1467810369  Mon Apr 06 22:19:45 PDT 2009  NO_QUERY   \n",
       "1       0  1467810672  Mon Apr 06 22:19:49 PDT 2009  NO_QUERY   \n",
       "2       0  1467810917  Mon Apr 06 22:19:53 PDT 2009  NO_QUERY   \n",
       "3       0  1467811184  Mon Apr 06 22:19:57 PDT 2009  NO_QUERY   \n",
       "4       0  1467811193  Mon Apr 06 22:19:57 PDT 2009  NO_QUERY   \n",
       "\n",
       "              user                                               text  \n",
       "0  _TheSpecialOne_  @switchfoot http://twitpic.com/2y1zl - Awww, t...  \n",
       "1    scotthamilton  is upset that he can't update his Facebook by ...  \n",
       "2         mattycus  @Kenichan I dived many times for the ball. Man...  \n",
       "3          ElleCTF    my whole body feels itchy and like its on fire   \n",
       "4           Karoli  @nationwideclass no, it's not behaving at all....  "
      ]
     },
     "execution_count": 3,
     "metadata": {},
     "output_type": "execute_result"
    }
   ],
   "source": [
    "df.head()"
   ]
  },
  {
   "cell_type": "code",
   "execution_count": 4,
   "metadata": {},
   "outputs": [],
   "source": [
    "for key in ['ids','date','flag','user']:\n",
    "    del df[key]"
   ]
  },
  {
   "cell_type": "code",
   "execution_count": 5,
   "metadata": {},
   "outputs": [
    {
     "data": {
      "text/plain": [
       "0    @switchfoot http://twitpic.com/2y1zl - Awww, t...\n",
       "1    is upset that he can't update his Facebook by ...\n",
       "2    @Kenichan I dived many times for the ball. Man...\n",
       "3      my whole body feels itchy and like its on fire \n",
       "4    @nationwideclass no, it's not behaving at all....\n",
       "Name: text, dtype: object"
      ]
     },
     "execution_count": 5,
     "metadata": {},
     "output_type": "execute_result"
    }
   ],
   "source": [
    "df.text.head()"
   ]
  },
  {
   "cell_type": "markdown",
   "metadata": {},
   "source": [
    "### Cleaning Text\n",
    "\n",
    "#### Tasks\n",
    "\n",
    "1. Removing @usernames\n",
    "2. Removing urls\n",
    "3. Extracting Quoted Text\n",
    "4. Replacing emojis"
   ]
  },
  {
   "cell_type": "code",
   "execution_count": 6,
   "metadata": {},
   "outputs": [
    {
     "data": {
      "text/plain": [
       "262394                                        cousins bday. \n",
       "890372     Today Hmmmm. ... got up got dinner done make u...\n",
       "817049                 @benshephard Welcome to Scotland..  x\n",
       "217083      in bed thinking about how much i miss my sister \n",
       "292664                  really dont get the design argument \n",
       "                                 ...                        \n",
       "1094450    @robertkneschke A system that does not change ...\n",
       "1065480    did not shower the whooooleeee day! and did no...\n",
       "343160     @stevyncolgan gone stale      not the same eve...\n",
       "1276694    today started poorly, and ended wonderfully.  ...\n",
       "709614                                  @mcdermr I'm sorry. \n",
       "Name: text, Length: 512, dtype: object"
      ]
     },
     "execution_count": 6,
     "metadata": {},
     "output_type": "execute_result"
    }
   ],
   "source": [
    "sample = df.sample(n=512)['text'].copy()\n",
    "sample"
   ]
  },
  {
   "cell_type": "code",
   "execution_count": 7,
   "metadata": {},
   "outputs": [],
   "source": [
    "USER_RE = re.compile(r'@\\w+')\n",
    "URL_RE = re.compile(r'(http|https)://(\\w+\\.)*(\\w+/|\\w+)*')\n",
    "QUOTE_RE = re.compile(r\"'([a-z ]+)'\")\n",
    "EMOJI_RE = re.compile(r'([-:;]+)([()DoO0]+)')\n",
    "ABBR_RE = re.compile(r'\\.')\n",
    "SYMBOL_RE = re.compile(r'[\\?\\-!#$%@^&*(){}\\[\\],.<>\\\"|\\\\:;]')\n",
    "\n",
    "WHITESPACE_RE = re.compile(r' +')\n",
    "TOKEN_RE = re.compile(r'(token)(\\w+)')"
   ]
  },
  {
   "cell_type": "code",
   "execution_count": 8,
   "metadata": {},
   "outputs": [
    {
     "data": {
      "text/plain": [
       "262394                                         cousins bday \n",
       "890372     today hmmmm got up got dinner done make up hai...\n",
       "817049                      <username> welcome to scotland x\n",
       "217083      in bed thinking about how much i miss my sister \n",
       "292664                  really dont get the design argument \n",
       "                                 ...                        \n",
       "1094450    <username> a system that does not change is dead \n",
       "1065480    did not shower the whooooleeee day and did not...\n",
       "343160     <username> gone stale not the same even with j...\n",
       "1276694    today started poorly and ended wonderfully i'm...\n",
       "709614                                 <username> i'm sorry \n",
       "Name: text, Length: 512, dtype: object"
      ]
     },
     "execution_count": 8,
     "metadata": {},
     "output_type": "execute_result"
    }
   ],
   "source": [
    "def apply_re(x):\n",
    "    x = x.lower()\n",
    "    x = USER_RE.sub('tokenusername',x)\n",
    "    x = URL_RE.sub('tokenurl',x)\n",
    "    x = EMOJI_RE.sub('tokenemoji',x)\n",
    "    \n",
    "    x = QUOTE_RE.sub(r'\\g<1>',x)\n",
    "    \n",
    "    x = ABBR_RE.sub('',x)\n",
    "    x = SYMBOL_RE.sub(' ',x)\n",
    "    x = WHITESPACE_RE.sub(' ',x)\n",
    "    \n",
    "    return TOKEN_RE.sub(r'<\\g<2>>',x)\n",
    "\n",
    "sample.apply(apply_re)"
   ]
  },
  {
   "cell_type": "code",
   "execution_count": 9,
   "metadata": {},
   "outputs": [
    {
     "name": "stdout",
     "output_type": "stream",
     "text": [
      "CPU times: user 32.8 s, sys: 295 ms, total: 33.1 s\n",
      "Wall time: 33.1 s\n"
     ]
    }
   ],
   "source": [
    "%%time\n",
    "\n",
    "df['text'] = df.text.apply(apply_re)"
   ]
  },
  {
   "cell_type": "code",
   "execution_count": 10,
   "metadata": {},
   "outputs": [
    {
     "data": {
      "text/plain": [
       "0    <username> <url> awww that's a bummer you shou...\n",
       "1    is upset that he can't update his facebook by ...\n",
       "2    <username> i dived many times for the ball man...\n",
       "3      my whole body feels itchy and like its on fire \n",
       "4    <username> no it's not behaving at all i'm mad...\n",
       "Name: text, dtype: object"
      ]
     },
     "execution_count": 10,
     "metadata": {},
     "output_type": "execute_result"
    }
   ],
   "source": [
    "df.text.head()"
   ]
  },
  {
   "cell_type": "code",
   "execution_count": 11,
   "metadata": {},
   "outputs": [],
   "source": [
    "df.to_csv(\"./clean_text.csv\",index=False) "
   ]
  },
  {
   "cell_type": "markdown",
   "metadata": {},
   "source": [
    "### Word Vectors"
   ]
  },
  {
   "cell_type": "code",
   "execution_count": 46,
   "metadata": {},
   "outputs": [],
   "source": [
    "sentences = df.text.apply(lambda x:x.split(\" \")).values\n",
    "max_len = max([len(s) for s in sentences])"
   ]
  },
  {
   "cell_type": "code",
   "execution_count": 47,
   "metadata": {},
   "outputs": [
    {
     "name": "stdout",
     "output_type": "stream",
     "text": [
      "CPU times: user 3min 43s, sys: 926 ms, total: 3min 44s\n",
      "Wall time: 1min 28s\n"
     ]
    }
   ],
   "source": [
    "%%time\n",
    "\n",
    "wv = Word2Vec(sentences=sentences,size=64,workers=8).wv"
   ]
  },
  {
   "cell_type": "code",
   "execution_count": 49,
   "metadata": {},
   "outputs": [
    {
     "data": {
      "text/plain": [
       "[('hi', 0.8436288237571716),\n",
       " ('howdy', 0.7102457284927368),\n",
       " ('hola', 0.7050547003746033),\n",
       " (\"g'morning\", 0.6639456748962402),\n",
       " ('goodmorning', 0.6483098864555359),\n",
       " ('hey', 0.6125234365463257),\n",
       " ('ello', 0.6033692359924316),\n",
       " (\"g'day\", 0.5862616300582886),\n",
       " ('welcome', 0.5669145584106445),\n",
       " ('hiya', 0.5635590553283691)]"
      ]
     },
     "execution_count": 49,
     "metadata": {},
     "output_type": "execute_result"
    }
   ],
   "source": [
    "wv.most_similar('hello')"
   ]
  },
  {
   "cell_type": "markdown",
   "metadata": {},
   "source": [
    "### Projecting Word Embeddings"
   ]
  },
  {
   "cell_type": "code",
   "execution_count": 68,
   "metadata": {},
   "outputs": [],
   "source": [
    "import tensorflow as tf\n",
    "\n",
    "from tensorflow import keras\n",
    "from tensorflow.keras import Model\n",
    "from tensorflow.keras.layers import *"
   ]
  },
  {
   "cell_type": "code",
   "execution_count": 100,
   "metadata": {},
   "outputs": [],
   "source": [
    "def dense(x,units,activation=LeakyReLU(0.5)):\n",
    "    x = Dense(units,use_bias=False,)(x)\n",
    "    x = BatchNormalization()(x)\n",
    "    x = Activation(activation)(x)\n",
    "    \n",
    "    return x\n",
    "\n",
    "emb_in = Input(shape=(64,))\n",
    "\n",
    "e = dense(emb_in,128,)\n",
    "e = dense(e,64)\n",
    "e = dense(e,64)\n",
    "e = dense(e,32)\n",
    "e = dense(e,32)\n",
    "e = dense(e,32)\n",
    "e = dense(e,16)\n",
    "e = dense(e,16)\n",
    "e = dense(e,16)\n",
    "e = dense(e,16)\n",
    "\n",
    "emb_d = dense(e,3)\n",
    "\n",
    "d = dense(emb_d,16)\n",
    "e = dense(e,16)\n",
    "e = dense(e,16)\n",
    "e = dense(e,16)\n",
    "d = dense(d,32)\n",
    "d = dense(d,32)\n",
    "d = dense(d,32)\n",
    "d = dense(d,64)\n",
    "d = dense(d,64)\n",
    "d = dense(d,64)\n",
    "\n",
    "model = Model(emb_in,d)\n",
    "emb_gen = Model(emb_in,emb_d)"
   ]
  },
  {
   "cell_type": "code",
   "execution_count": 101,
   "metadata": {},
   "outputs": [],
   "source": [
    "opt = keras.optimizers.Adam(0.00009)\n",
    "loss = keras.losses.MeanAbsoluteError()\n",
    "\n",
    "model.compile(optmizer=opt,loss=loss)"
   ]
  },
  {
   "cell_type": "code",
   "execution_count": 102,
   "metadata": {},
   "outputs": [
    {
     "name": "stdout",
     "output_type": "stream",
     "text": [
      "Train on 58455 samples\n",
      "Epoch 1/3\n",
      "58455/58455 [==============================] - 27s 462us/sample - loss: 0.2085\n",
      "Epoch 2/3\n",
      "58455/58455 [==============================] - 20s 342us/sample - loss: 0.1563\n",
      "Epoch 3/3\n",
      "58455/58455 [==============================] - 20s 347us/sample - loss: 0.1537\n"
     ]
    },
    {
     "data": {
      "text/plain": [
       "<tensorflow.python.keras.callbacks.History at 0x7f60c072ff98>"
      ]
     },
     "execution_count": 102,
     "metadata": {},
     "output_type": "execute_result"
    }
   ],
   "source": [
    "model.fit(x=wv.vectors,y=wv.vectors,batch_size=64,epochs=3)"
   ]
  },
  {
   "cell_type": "code",
   "execution_count": 103,
   "metadata": {},
   "outputs": [
    {
     "name": "stdout",
     "output_type": "stream",
     "text": [
      "58455/58455 [==============================] - 4s 66us/sample\n"
     ]
    }
   ],
   "source": [
    "embeddings = emb_gen.predict(wv.vectors,batch_size=64,verbose=1)"
   ]
  },
  {
   "cell_type": "code",
   "execution_count": 104,
   "metadata": {},
   "outputs": [],
   "source": [
    "fig = ex.scatter_3d(x=embeddings[:,0],y=embeddings[:,1],z=embeddings[:,2],hover_name=wv.index2word)"
   ]
  },
  {
   "cell_type": "code",
   "execution_count": 105,
   "metadata": {},
   "outputs": [],
   "source": [
    "with open(\"./projections.html\",\"w+\") as file:\n",
    "    file.write(fig.to_html())"
   ]
  }
 ],
 "metadata": {
  "kernelspec": {
   "display_name": "Python 3",
   "language": "python",
   "name": "python3"
  },
  "language_info": {
   "codemirror_mode": {
    "name": "ipython",
    "version": 3
   },
   "file_extension": ".py",
   "mimetype": "text/x-python",
   "name": "python",
   "nbconvert_exporter": "python",
   "pygments_lexer": "ipython3",
   "version": "3.6.8"
  }
 },
 "nbformat": 4,
 "nbformat_minor": 4
}
